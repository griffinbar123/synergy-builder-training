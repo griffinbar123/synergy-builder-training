{
  "nbformat": 4,
  "nbformat_minor": 0,
  "metadata": {
    "colab": {
      "provenance": [],
      "authorship_tag": "ABX9TyPFMAyb3unFE5zWX2i7NBDP",
      "include_colab_link": true
    },
    "kernelspec": {
      "name": "python3",
      "display_name": "Python 3"
    },
    "language_info": {
      "name": "python"
    }
  },
  "cells": [
    {
      "cell_type": "markdown",
      "metadata": {
        "id": "view-in-github",
        "colab_type": "text"
      },
      "source": [
        "<a href=\"https://colab.research.google.com/github/griffinbar123/synergy-builder-training/blob/main/training.ipynb\" target=\"_parent\"><img src=\"https://colab.research.google.com/assets/colab-badge.svg\" alt=\"Open In Colab\"/></a>"
      ]
    },
    {
      "cell_type": "code",
      "source": [
        "import numpy as np\n",
        "import pandas as pd\n",
        "import os\n",
        "from google.colab import drive"
      ],
      "metadata": {
        "id": "Xs4-flDoHUPm"
      },
      "execution_count": 3,
      "outputs": []
    },
    {
      "cell_type": "code",
      "execution_count": 4,
      "metadata": {
        "colab": {
          "base_uri": "https://localhost:8080/"
        },
        "id": "augY1X9bHOCZ",
        "outputId": "6c5c157f-e0e0-4fd3-a9c1-498d11b0dbc8"
      },
      "outputs": [
        {
          "output_type": "stream",
          "name": "stdout",
          "text": [
            "Mounted at /content/drive\n",
            "           tier  participant_1_attack  participant_1_defense  \\\n",
            "0          IRON                   8.0                    5.0   \n",
            "1          IRON                   8.0                    4.0   \n",
            "2          IRON                   9.0                    5.0   \n",
            "3          IRON                   5.0                    3.0   \n",
            "4          IRON                   5.0                    3.0   \n",
            "...         ...                   ...                    ...   \n",
            "221293  DIAMOND                   0.0                    0.0   \n",
            "221294  DIAMOND                   3.0                    9.0   \n",
            "221295  DIAMOND                   5.0                    3.0   \n",
            "221296  DIAMOND                   8.0                    5.0   \n",
            "221297  DIAMOND                  10.0                    4.0   \n",
            "\n",
            "        participant_1_magic  participant_1_difficulty  participant_1_hp  \\\n",
            "0                       3.0                       8.0             655.0   \n",
            "1                       3.0                       4.0             650.0   \n",
            "2                       1.0                       2.0             652.0   \n",
            "3                       7.0                       6.0             598.0   \n",
            "4                       7.0                       6.0             598.0   \n",
            "...                     ...                       ...               ...   \n",
            "221293                  0.0                       0.0             570.0   \n",
            "221294                  3.0                       4.0             610.0   \n",
            "221295                  7.0                       6.0             598.0   \n",
            "221296                  1.0                       8.0             630.0   \n",
            "221297                  2.0                       3.0             620.0   \n",
            "\n",
            "        participant_1_hpperlevel  participant_1_mp  participant_1_mpperlevel  \\\n",
            "0                          102.0             340.0                      45.0   \n",
            "1                          114.0               0.0                       0.0   \n",
            "2                          114.0             263.0                      58.0   \n",
            "3                          104.0             334.0                      25.0   \n",
            "4                          104.0             334.0                      25.0   \n",
            "...                          ...               ...                       ...   \n",
            "221293                      90.0             360.0                      25.0   \n",
            "221294                      99.0             400.0                       0.0   \n",
            "221295                     104.0             334.0                      25.0   \n",
            "221296                     100.0               0.0                       0.0   \n",
            "221297                      99.0             300.0                      60.0   \n",
            "\n",
            "        participant_1_movespeed  ...  participant_10_average_visionScore  \\\n",
            "0                         330.0  ...                           35.774490   \n",
            "1                         345.0  ...                           31.042973   \n",
            "2                         340.0  ...                           35.579392   \n",
            "3                         330.0  ...                           15.722642   \n",
            "4                         330.0  ...                           33.148320   \n",
            "...                         ...  ...                                 ...   \n",
            "221293                    330.0  ...                           19.744715   \n",
            "221294                    340.0  ...                           32.751220   \n",
            "221295                    330.0  ...                           34.500000   \n",
            "221296                    340.0  ...                           33.079245   \n",
            "221297                    345.0  ...                           55.992972   \n",
            "\n",
            "        participant_10_average_win  participant_10_average_damagePerMinute  \\\n",
            "0                         0.482653                               21.268760   \n",
            "1                         0.522213                               26.014024   \n",
            "2                         0.500845                               23.965494   \n",
            "3                         0.524843                               29.445014   \n",
            "4                         0.481137                               20.432790   \n",
            "...                            ...                                     ...   \n",
            "221293                    0.528455                               38.557803   \n",
            "221294                    0.542439                               38.887912   \n",
            "221295                    0.510232                               35.989909   \n",
            "221296                    0.508356                               30.044121   \n",
            "221297                    0.517068                               19.325462   \n",
            "\n",
            "        participant_10_average_effectiveHealAndShielding  participant_10_Tank  \\\n",
            "0                                               0.436885                  0.0   \n",
            "1                                              66.771080                  0.0   \n",
            "2                                              33.819626                  0.0   \n",
            "3                                              17.680629                  0.0   \n",
            "4                                               9.412011                  1.0   \n",
            "...                                                  ...                  ...   \n",
            "221293                                          0.249220                  0.0   \n",
            "221294                                          1.660897                  0.0   \n",
            "221295                                          6.148173                  0.0   \n",
            "221296                                          1.963154                  0.0   \n",
            "221297                                        754.999310                  0.0   \n",
            "\n",
            "        participant_10_Fighter  participant_10_Assassin  participant_10_Mage  \\\n",
            "0                          0.0                      0.0                  1.0   \n",
            "1                          0.0                      0.0                  1.0   \n",
            "2                          0.0                      0.0                  1.0   \n",
            "3                          0.0                      0.0                  0.0   \n",
            "4                          1.0                      0.0                  0.0   \n",
            "...                        ...                      ...                  ...   \n",
            "221293                     1.0                      0.0                  1.0   \n",
            "221294                     0.0                      0.0                  1.0   \n",
            "221295                     0.0                      0.0                  0.0   \n",
            "221296                     0.0                      1.0                  0.0   \n",
            "221297                     0.0                      0.0                  1.0   \n",
            "\n",
            "        participant_10_Support  participant_10_Marksman  \n",
            "0                          1.0                      0.0  \n",
            "1                          1.0                      0.0  \n",
            "2                          1.0                      0.0  \n",
            "3                          0.0                      1.0  \n",
            "4                          0.0                      0.0  \n",
            "...                        ...                      ...  \n",
            "221293                     0.0                      0.0  \n",
            "221294                     1.0                      0.0  \n",
            "221295                     1.0                      1.0  \n",
            "221296                     0.0                      0.0  \n",
            "221297                     1.0                      0.0  \n",
            "\n",
            "[221298 rows x 591 columns]\n"
          ]
        }
      ],
      "source": [
        "drive.mount('/content/drive')\n",
        "os.chdir('/content/drive/My Drive/')\n",
        "\n",
        "def loadDataAndTargets():\n",
        "    df = pd.read_csv(\"final_data.csv\")\n",
        "    # print(df)\n",
        "    # X = df.loc[:, df.columns != 'win']\n",
        "    df.columns.values[0] = \"index\"\n",
        "    X = df.drop(['index','win'], axis=1)\n",
        "    y = df[\"win\"]\n",
        "    return X, y.to_numpy()\n",
        "\n",
        "df, y = loadDataAndTargets()\n",
        "print(df)"
      ]
    }
  ]
}